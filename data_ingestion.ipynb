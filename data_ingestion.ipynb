{
 "cells": [
  {
   "cell_type": "code",
   "execution_count": 3,
   "id": "9a8bc1e0",
   "metadata": {},
   "outputs": [
    {
     "name": "stdout",
     "output_type": "stream",
     "text": [
      "current directory:  /home/radu/workspace/github.com/foresst/pythonprojects/stocksentiment\n"
     ]
    }
   ],
   "source": [
    "import os\n",
    "import pandas as pd\n",
    "from utilities import *\n",
    "\n",
    "print(\"current directory: \", os.getcwd())\n",
    "\n",
    "f1 = 'data/stocks/hot/year=2025/month=02/day=17/comments.csv'\n",
    "f2 = 'data/stocks/hot/year=2025/month=02/day=17/posts.csv'\n",
    "\n",
    "# posts cvs structure title,url,subreddit,author,score,num_comments,created_utc,name\n",
    "# comments csv structure post_name,body,author,score,created_utc,name\n",
    "# comments_for_thread = comments[comments['post_name'] == thread_name]"
   ]
  },
  {
   "cell_type": "code",
   "execution_count": 7,
   "id": "42f6708b",
   "metadata": {},
   "outputs": [],
   "source": [
    "posts = pd.read_csv(f2, usecols=['title', 'score', 'created_utc'])\n"
   ]
  },
  {
   "cell_type": "code",
   "execution_count": 12,
   "id": "85b1caf5",
   "metadata": {},
   "outputs": [
    {
     "data": {
      "text/html": [
       "<div>\n",
       "<style scoped>\n",
       "    .dataframe tbody tr th:only-of-type {\n",
       "        vertical-align: middle;\n",
       "    }\n",
       "\n",
       "    .dataframe tbody tr th {\n",
       "        vertical-align: top;\n",
       "    }\n",
       "\n",
       "    .dataframe thead th {\n",
       "        text-align: right;\n",
       "    }\n",
       "</style>\n",
       "<table border=\"1\" class=\"dataframe\">\n",
       "  <thead>\n",
       "    <tr style=\"text-align: right;\">\n",
       "      <th></th>\n",
       "      <th>Symbol</th>\n",
       "      <th>Security Name</th>\n",
       "    </tr>\n",
       "  </thead>\n",
       "  <tbody>\n",
       "    <tr>\n",
       "      <th>0</th>\n",
       "      <td>AACBU</td>\n",
       "      <td>Artius II Acquisition Inc. - Units</td>\n",
       "    </tr>\n",
       "    <tr>\n",
       "      <th>1</th>\n",
       "      <td>AACG</td>\n",
       "      <td>ATA Creativity Global - American Depositary Sh...</td>\n",
       "    </tr>\n",
       "    <tr>\n",
       "      <th>2</th>\n",
       "      <td>AADI</td>\n",
       "      <td>Aadi Bioscience, Inc. - Common Stock</td>\n",
       "    </tr>\n",
       "    <tr>\n",
       "      <th>3</th>\n",
       "      <td>AADR</td>\n",
       "      <td>AdvisorShares Dorsey Wright ADR ETF</td>\n",
       "    </tr>\n",
       "    <tr>\n",
       "      <th>4</th>\n",
       "      <td>AAL</td>\n",
       "      <td>American Airlines Group, Inc. - Common Stock</td>\n",
       "    </tr>\n",
       "  </tbody>\n",
       "</table>\n",
       "</div>"
      ],
      "text/plain": [
       "  Symbol                                      Security Name\n",
       "0  AACBU                 Artius II Acquisition Inc. - Units\n",
       "1   AACG  ATA Creativity Global - American Depositary Sh...\n",
       "2   AADI               Aadi Bioscience, Inc. - Common Stock\n",
       "3   AADR                AdvisorShares Dorsey Wright ADR ETF\n",
       "4    AAL       American Airlines Group, Inc. - Common Stock"
      ]
     },
     "execution_count": 12,
     "metadata": {},
     "output_type": "execute_result"
    }
   ],
   "source": [
    "nasdaq_listed = pd.read_csv('nasdaqlisted.txt', sep='|', usecols=['Symbol', 'Security Name'])\n",
    "nasdaq_listed.head()"
   ]
  },
  {
   "cell_type": "code",
   "execution_count": 15,
   "id": "3d714e99",
   "metadata": {},
   "outputs": [
    {
     "data": {
      "text/html": [
       "<div>\n",
       "<style scoped>\n",
       "    .dataframe tbody tr th:only-of-type {\n",
       "        vertical-align: middle;\n",
       "    }\n",
       "\n",
       "    .dataframe tbody tr th {\n",
       "        vertical-align: top;\n",
       "    }\n",
       "\n",
       "    .dataframe thead th {\n",
       "        text-align: right;\n",
       "    }\n",
       "</style>\n",
       "<table border=\"1\" class=\"dataframe\">\n",
       "  <thead>\n",
       "    <tr style=\"text-align: right;\">\n",
       "      <th></th>\n",
       "      <th>ACT Symbol</th>\n",
       "      <th>Security Name</th>\n",
       "    </tr>\n",
       "  </thead>\n",
       "  <tbody>\n",
       "    <tr>\n",
       "      <th>0</th>\n",
       "      <td>A</td>\n",
       "      <td>Agilent Technologies, Inc. Common Stock</td>\n",
       "    </tr>\n",
       "    <tr>\n",
       "      <th>1</th>\n",
       "      <td>AA</td>\n",
       "      <td>Alcoa Corporation Common Stock</td>\n",
       "    </tr>\n",
       "    <tr>\n",
       "      <th>2</th>\n",
       "      <td>AAA</td>\n",
       "      <td>Alternative Access First Priority CLO Bond ETF</td>\n",
       "    </tr>\n",
       "    <tr>\n",
       "      <th>3</th>\n",
       "      <td>AAAU</td>\n",
       "      <td>Goldman Sachs Physical Gold ETF Shares</td>\n",
       "    </tr>\n",
       "    <tr>\n",
       "      <th>4</th>\n",
       "      <td>AACT</td>\n",
       "      <td>Ares Acquisition Corporation II Class A Ordina...</td>\n",
       "    </tr>\n",
       "  </tbody>\n",
       "</table>\n",
       "</div>"
      ],
      "text/plain": [
       "  ACT Symbol                                      Security Name\n",
       "0          A            Agilent Technologies, Inc. Common Stock\n",
       "1         AA                    Alcoa Corporation Common Stock \n",
       "2        AAA     Alternative Access First Priority CLO Bond ETF\n",
       "3       AAAU             Goldman Sachs Physical Gold ETF Shares\n",
       "4       AACT  Ares Acquisition Corporation II Class A Ordina..."
      ]
     },
     "execution_count": 15,
     "metadata": {},
     "output_type": "execute_result"
    }
   ],
   "source": [
    "other_listed = pd.read_csv('otherlisted.txt', sep='|', usecols=['ACT Symbol', 'Security Name'])\n",
    "other_listed.head()"
   ]
  },
  {
   "cell_type": "code",
   "execution_count": null,
   "id": "19f16fb9",
   "metadata": {},
   "outputs": [],
   "source": []
  },
  {
   "cell_type": "code",
   "execution_count": null,
   "id": "aeca2f31",
   "metadata": {},
   "outputs": [],
   "source": []
  }
 ],
 "metadata": {
  "kernelspec": {
   "display_name": ".venv",
   "language": "python",
   "name": "python3"
  },
  "language_info": {
   "codemirror_mode": {
    "name": "ipython",
    "version": 3
   },
   "file_extension": ".py",
   "mimetype": "text/x-python",
   "name": "python",
   "nbconvert_exporter": "python",
   "pygments_lexer": "ipython3",
   "version": "3.12.3"
  }
 },
 "nbformat": 4,
 "nbformat_minor": 5
}
